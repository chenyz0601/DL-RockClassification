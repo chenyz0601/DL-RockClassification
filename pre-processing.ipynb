{
 "cells": [
  {
   "cell_type": "markdown",
   "metadata": {},
   "source": [
    "# Data preprocessing\n",
    "it contains two large modules:\n",
    "process X and process Y"
   ]
  },
  {
   "cell_type": "code",
   "execution_count": 1,
   "metadata": {},
   "outputs": [],
   "source": [
    "# import arcpy\n",
    "import numpy as np\n",
    "import os, glob\n",
    "import matplotlib.pyplot as plt\n",
    "%matplotlib inline"
   ]
  },
  {
   "cell_type": "code",
   "execution_count": 2,
   "metadata": {},
   "outputs": [
    {
     "data": {
      "text/plain": [
       "'Available'"
      ]
     },
     "execution_count": 2,
     "metadata": {},
     "output_type": "execute_result"
    }
   ],
   "source": [
    "arcpy.CheckExtension('ImageAnalyst')"
   ]
  },
  {
   "cell_type": "markdown",
   "metadata": {},
   "source": [
    "## process X\n",
    "### X from sentinal 2 L2A data\n",
    "#### check bands and resolutions, resample all bands to 10m\n",
    "resolution 10m: band2(blue), band3(green), band4(red), band8(nir)<br>\n",
    "need to be resampled to R10m: band5, band6, band7, band8A, band11, band12<br>\n",
    "band1, band9, band10 are useless, only for correction\n",
    "so the total num of bands is 10<br>\n",
    "followed by ASTER band4-9 and Geo-physical data"
   ]
  },
  {
   "cell_type": "markdown",
   "metadata": {},
   "source": [
    "#### calculate NDVI\n",
    "set threshold as 0.3, band3 is red, band7 is NIR"
   ]
  },
  {
   "cell_type": "markdown",
   "metadata": {},
   "source": [
    "#### layer number and rock type\n",
    "| Layer | Rock |\n",
    "|-------|------|\n",
    "| 0     | Vegetation|\n",
    "| 1     | Unkown Rocks|\n",
    "| 2     | Carbonate_sediment|\n",
    "| 3     | Dolerite|\n",
    "| 4     | Feldspathic_sediment|\n",
    "| 5     | Felsic_volcanic|\n",
    "| 6     | Gneiss|\n",
    "| 7     | Granite|\n",
    "| 8     | Mafic_volcanic|\n",
    "| 9     | Quartz_sediment|"
   ]
  },
  {
   "cell_type": "markdown",
   "metadata": {},
   "source": [
    "## Export training data X, Y with tile of 256 x 256"
   ]
  },
  {
   "cell_type": "markdown",
   "metadata": {},
   "source": [
    "#### split X and Y into tiles"
   ]
  },
  {
   "cell_type": "code",
   "execution_count": 5,
   "metadata": {
    "scrolled": true
   },
   "outputs": [],
   "source": [
    "from src.DeepRock.utils import split2Tiles"
   ]
  },
  {
   "cell_type": "code",
   "execution_count": 11,
   "metadata": {},
   "outputs": [],
   "source": [
    "# normalize input remote sensing data, and save as numpy array\n",
    "block_id = 4\n",
    "# read the raster block\n",
    "raster = arcpy.Raster('C:/Users/yuch/Documents/ArcGIS/Projects/mount_isa/BLOCK{0}.tif'.format(block_id))\n",
    "raster_num = arcpy.RasterToNumPyArray(raster)\n",
    "# normalize each band by (x-min)/(max-min)\n",
    "for i in range(raster_num.shape[0]):\n",
    "    raster_num[i,:,:] = (raster_num[i,:,:] - raster_num[i,:,:].min()) / (raster_num[i,:,:].max() - raster_num[i,:,:].min())\n",
    "    \n",
    "np.save('./data/Blocks/block{0}'.format(block_id), raster_num)"
   ]
  },
  {
   "cell_type": "code",
   "execution_count": 15,
   "metadata": {},
   "outputs": [],
   "source": [
    "# save labels as numpy array\n",
    "block_id = 4\n",
    "# read the raster block\n",
    "raster = arcpy.Raster('C:/Users/yuch/Documents/ArcGIS/Projects/mount_isa/Labels_BLOCK{0}.tif'.format(block_id))\n",
    "raster_num = arcpy.RasterToNumPyArray(raster)\n",
    "    \n",
    "np.save('./data/Blocks/labels_block{0}'.format(block_id), raster_num)"
   ]
  },
  {
   "cell_type": "code",
   "execution_count": 23,
   "metadata": {},
   "outputs": [
    {
     "name": "stdout",
     "output_type": "stream",
     "text": [
      "split into 294 tiles\n"
     ]
    }
   ],
   "source": [
    "# use block 1, 3, 4 as train data\n",
    "# and block 2 as test data\n",
    "split2Tiles('./data/test/Y/', np.load('./data/Blocks/labels_block2.npy'), suffix='block2')"
   ]
  },
  {
   "cell_type": "markdown",
   "metadata": {},
   "source": [
    "#### remove tile with bad boundary"
   ]
  },
  {
   "cell_type": "code",
   "execution_count": 2,
   "metadata": {},
   "outputs": [],
   "source": [
    "from src.DeepRock.utils import remove_boundary"
   ]
  },
  {
   "cell_type": "code",
   "execution_count": 3,
   "metadata": {},
   "outputs": [
    {
     "name": "stdout",
     "output_type": "stream",
     "text": [
      "removing tiles with bad boundary\n",
      "removing tiles with bad boundary\n"
     ]
    }
   ],
   "source": [
    "remove_boundary('./data/train/')\n",
    "remove_boundary('./data/test/')"
   ]
  },
  {
   "cell_type": "code",
   "execution_count": null,
   "metadata": {},
   "outputs": [],
   "source": []
  }
 ],
 "metadata": {
  "kernelspec": {
   "display_name": "Python 3",
   "language": "python",
   "name": "python3"
  },
  "language_info": {
   "codemirror_mode": {
    "name": "ipython",
    "version": 3
   },
   "file_extension": ".py",
   "mimetype": "text/x-python",
   "name": "python",
   "nbconvert_exporter": "python",
   "pygments_lexer": "ipython3",
   "version": "3.6.5"
  }
 },
 "nbformat": 4,
 "nbformat_minor": 2
}
