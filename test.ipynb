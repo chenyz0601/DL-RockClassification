{
 "cells": [
  {
   "cell_type": "code",
   "execution_count": 1,
   "metadata": {
    "scrolled": true
   },
   "outputs": [
    {
     "name": "stderr",
     "output_type": "stream",
     "text": [
      "C:\\Users\\yuch\\Downloads\\anaconda3\\envs\\nz_convnet\\lib\\site-packages\\h5py\\__init__.py:36: FutureWarning: Conversion of the second argument of issubdtype from `float` to `np.floating` is deprecated. In future, it will be treated as `np.float64 == np.dtype(float).type`.\n",
      "  from ._conv import register_converters as _register_converters\n",
      "Using TensorFlow backend.\n"
     ]
    }
   ],
   "source": [
    "from src.DeepRock.models import AdvSeg\n",
    "from src.DeepRock.data import DataGenerator\n",
    "from src.DeepRock.utils import split_trn_vld_tst, test_fn\n",
    "import matplotlib.pyplot as plt\n",
    "import numpy as np"
   ]
  },
  {
   "cell_type": "code",
   "execution_count": 2,
   "metadata": {},
   "outputs": [],
   "source": [
    "test_path = './data/test/'\n",
    "sag_dtype = 'sent_ast_geo'\n",
    "sa_dtype = 'sent_ast'\n",
    "s_dtype = 'sent'"
   ]
  },
  {
   "cell_type": "markdown",
   "metadata": {},
   "source": [
    "#### start to build Conv2D for different input data"
   ]
  },
  {
   "cell_type": "code",
   "execution_count": 3,
   "metadata": {
    "scrolled": true
   },
   "outputs": [
    {
     "name": "stdout",
     "output_type": "stream",
     "text": [
      "building Segmentation U-net ...\n",
      "[64, 64, 64, 64]\n",
      "[64, 64, 64]\n",
      "compiling Segmentation only, lr is 0.001 ...\n",
      "building Segmentation U-net ...\n",
      "[64, 64, 64, 64]\n",
      "[64, 64, 64]\n",
      "compiling Segmentation only, lr is 0.001 ...\n",
      "building Segmentation U-net ...\n",
      "[64, 64, 64, 64]\n",
      "[64, 64, 64]\n",
      "compiling Segmentation only, lr is 0.001 ...\n"
     ]
    }
   ],
   "source": [
    "s_conv = AdvSeg(dtype=s_dtype)\n",
    "sa_conv = AdvSeg(dtype=sa_dtype)\n",
    "sag_conv = AdvSeg(dtype=sag_dtype)\n",
    "s_conv.build_SegmentationNet()\n",
    "sa_conv.build_SegmentationNet()\n",
    "sag_conv.build_SegmentationNet()"
   ]
  },
  {
   "cell_type": "markdown",
   "metadata": {},
   "source": [
    "#### load weights"
   ]
  },
  {
   "cell_type": "code",
   "execution_count": 4,
   "metadata": {},
   "outputs": [],
   "source": [
    "sag_conv.load_weights('./Segmentation/sent_ast_geo/weights-115-0.77.hdf5')\n",
    "sa_conv.load_weights('./Segmentation/sent_ast/weights-107-0.71.hdf5')\n",
    "s_conv.load_weights('./Segmentation/sent/weights-60-0.68.hdf5')"
   ]
  },
  {
   "cell_type": "markdown",
   "metadata": {},
   "source": [
    "#### prepare test data"
   ]
  },
  {
   "cell_type": "code",
   "execution_count": 5,
   "metadata": {},
   "outputs": [
    {
     "name": "stdout",
     "output_type": "stream",
     "text": [
      "split into 238 train, 0 validation, 0 test samples\n"
     ]
    }
   ],
   "source": [
    "X_tst, Y_tst, _, _, _, _ = split_trn_vld_tst(test_path, vld_rate=0, tst_rate=0, seed=10)\n",
    "s_tst_data = DataGenerator(X_tst, Y_tst, batch_size=len(X_tst), shuffle=False, dtype=s_dtype)\n",
    "sa_tst_data = DataGenerator(X_tst, Y_tst, batch_size=len(X_tst), shuffle=False, dtype=sa_dtype)\n",
    "sag_tst_data = DataGenerator(X_tst, Y_tst, batch_size=len(X_tst), shuffle=False, dtype=sag_dtype)"
   ]
  },
  {
   "cell_type": "markdown",
   "metadata": {},
   "source": [
    "#### test"
   ]
  },
  {
   "cell_type": "code",
   "execution_count": 9,
   "metadata": {},
   "outputs": [
    {
     "name": "stdout",
     "output_type": "stream",
     "text": [
      "loading test data ...\n",
      "predicting with sent_ast_geo...\n",
      "238/238 [==============================] - 233s 980ms/step\n",
      "mean accuracy on test data is 0.32100671078978466, std is 0.1391093586877581\n",
      "max is 0.932586669921875, min is 0.072906494140625\n"
     ]
    }
   ],
   "source": [
    "sa_cls = test_fn(sag_conv, sag_tst_data, plot_end=0, verbose=1)"
   ]
  },
  {
   "cell_type": "code",
   "execution_count": 10,
   "metadata": {},
   "outputs": [
    {
     "data": {
      "text/plain": [
       "array([0.54204264, 0.8650698 , 0.94747194, 0.9991575 , 0.9962723 ,\n",
       "       0.91818077, 0.95998274, 0.68219103, 0.87043333, 0.86121138])"
      ]
     },
     "execution_count": 10,
     "metadata": {},
     "output_type": "execute_result"
    }
   ],
   "source": [
    "sa_cls"
   ]
  },
  {
   "cell_type": "markdown",
   "metadata": {},
   "source": [
    "#### calculate the accuracy"
   ]
  },
  {
   "cell_type": "code",
   "execution_count": 126,
   "metadata": {},
   "outputs": [
    {
     "data": {
      "text/plain": [
       "<matplotlib.legend.Legend at 0x1c483abdf60>"
      ]
     },
     "execution_count": 126,
     "metadata": {},
     "output_type": "execute_result"
    },
    {
     "data": {
      "image/png": "[encoded data removed]",
      "text/plain": [
       "<Figure size 432x288 with 1 Axes>"
      ]
     },
     "metadata": {},
     "output_type": "display_data"
    }
   ],
   "source": [
    "cls_names = ['Vegetation', 'Unkown Rocks', 'Carbonate_sediment',\n",
    "           'Dolerite', 'Feldspathic_sediment', 'Felsic_volcanic', 'Gneiss', 'Granite', 'Mafic_volcanic', 'Quartz_sediment']\n",
    "ax = plt.subplot(111)\n",
    "ax.bar(np.arange(10)-0.2, acc_cls, width=0.4, color='b', align='center', label='S2A')\n",
    "ax.bar(np.arange(10)+0.2, acc_cls_sg, width=0.4, color='r', align='center', label='S2A+GeoPhy')\n",
    "plt.xticks(np.arange(10), cls_names, rotation=270)\n",
    "plt.ylabel('accuarcy')\n",
    "plt.legend()"
   ]
  },
  {
   "cell_type": "code",
   "execution_count": null,
   "metadata": {},
   "outputs": [],
   "source": []
  }
 ],
 "metadata": {
  "kernelspec": {
   "display_name": "Python 3",
   "language": "python",
   "name": "python3"
  },
  "language_info": {
   "codemirror_mode": {
    "name": "ipython",
    "version": 3
   },
   "file_extension": ".py",
   "mimetype": "text/x-python",
   "name": "python",
   "nbconvert_exporter": "python",
   "pygments_lexer": "ipython3",
   "version": "3.6.5"
  }
 },
 "nbformat": 4,
 "nbformat_minor": 2
}
